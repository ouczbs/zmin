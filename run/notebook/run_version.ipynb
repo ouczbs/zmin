{
 "cells": [
  {
   "cell_type": "code",
   "execution_count": null,
   "metadata": {},
   "outputs": [
    {
     "name": "stdout",
     "output_type": "stream",
     "text": [
      "2023-04-07T15:05:13.778+0800\tINFO\tznet/servertcp.go:33\tListening on TCP: 127.0.0.1:9000 ...\n",
      "2023-04-07T15:05:15.005+0800\tINFO\tznet/servertcp.go:50\tConnection from: 127.0.0.1:59330\n",
      "2023-04-07T15:05:15.005+0800\tDEBUG\tversion/versionservice_handle.go:71\tAddEngineComponent:2 3\n",
      "2023-04-07T15:05:15.064+0800\tINFO\tznet/servertcp.go:50\tConnection from: 127.0.0.1:59332\n",
      "2023-04-07T15:05:15.064+0800\tDEBUG\tversion/versionservice_handle.go:71\tAddEngineComponent:3 3\n",
      "2023-04-07T15:06:11.147+0800\tINFO\tznet/servertcp.go:50\tConnection from: 127.0.0.1:59428\n",
      "2023-04-07T15:06:11.147+0800\tDEBUG\tversion/versionservice_handle.go:71\tAddEngineComponent:4 3\n",
      "2023-04-07T15:16:06.578+0800\tDEBUG\tznet/packetconnection.go:30\tConn read error: EOF\n",
      "2023-04-07T15:16:06.578+0800\tDEBUG\tbase/service.go:33\tClientDisconnect &{%!s(*znet.UPacketConnection=&{0xc000014058 true}) %!s(*zclass.UProperty=&{{{0 0} 0 0 {{} 0} {{} 0}} map[1:4 2:3 4:127.0.0.1:11000]}) %!s(*base.UService=&{0xc0000bc200 map[2:0x6f9e60 30:0x6f86e0] 0xc000088300 0xa5bc60}) map[]}\n",
      "2023-04-07T15:16:06.578+0800\tINFO\tbase/service.go:35\t ClientDisconnect   %!(EXTRA int32=3)\n",
      "2023-04-07T15:16:06.578+0800\tDEBUG\tznet/clientproxy.go:42\tServe RecvPacket error %!(EXTRA *errors.errorString=EOF)\n",
      "2023-04-07T15:16:24.233+0800\tINFO\tznet/servertcp.go:50\tConnection from: 127.0.0.1:60042\n",
      "2023-04-07T15:16:24.233+0800\tDEBUG\tversion/versionservice_handle.go:71\tAddEngineComponent:4 3\n"
     ]
    }
   ],
   "source": [
    "!cd ../../ && go run run/service/version/*.go -config service_version.json -ComponentId 1"
   ]
  },
  {
   "cell_type": "code",
   "execution_count": null,
   "metadata": {},
   "outputs": [],
   "source": []
  }
 ],
 "metadata": {
  "kernelspec": {
   "display_name": "Python 3 (ipykernel)",
   "language": "python",
   "name": "python3"
  },
  "language_info": {
   "codemirror_mode": {
    "name": "ipython",
    "version": 3
   },
   "file_extension": ".py",
   "mimetype": "text/x-python",
   "name": "python",
   "nbconvert_exporter": "python",
   "pygments_lexer": "ipython3",
   "version": "3.9.7"
  }
 },
 "nbformat": 4,
 "nbformat_minor": 2
}

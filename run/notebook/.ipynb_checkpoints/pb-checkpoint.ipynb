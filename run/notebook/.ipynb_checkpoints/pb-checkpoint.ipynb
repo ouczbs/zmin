{
 "cells": [
  {
   "cell_type": "code",
   "execution_count": 3,
   "metadata": {},
   "outputs": [
    {
     "name": "stderr",
     "output_type": "stream",
     "text": [
      "'protoc-gen-go' 不是内部或外部命令，也不是可运行的程序\n",
      "或批处理文件。\n",
      "--go_out: protoc-gen-go: Plugin failed with status code 1.\n"
     ]
    }
   ],
   "source": [
    "!cd F:\\zmin\\engine\\sync\\zpb && protoc --go_out=. *.proto"
   ]
  },
  {
   "cell_type": "code",
   "execution_count": 10,
   "metadata": {},
   "outputs": [],
   "source": [
    "!cd E:\\ouczbs\\mmo\\engine\\proto\\pb && protoc --go_out=. *.proto"
   ]
  },
  {
   "cell_type": "code",
   "execution_count": 11,
   "metadata": {},
   "outputs": [
    {
     "name": "stdout",
     "output_type": "stream",
     "text": [
      "E:\\ouczbs\\mmo\\engine\\proto\\pb\\Cmd.proto\n",
      "E:\\ouczbs\\mmo\\engine\\proto\\pb\\Login.proto\n",
      "E:\\ouczbs\\mmo\\engine\\proto\\pb\\MessageType.proto\n",
      "E:\\ouczbs\\mmo\\engine\\proto\\pb\\Wrap.proto\n",
      "已复制         4 个文件。\n"
     ]
    }
   ],
   "source": [
    "!copy E:\\ouczbs\\mmo\\engine\\proto\\pb\\*.proto E:\\ouczbs\\Survive\\Content\\Proto"
   ]
  },
  {
   "cell_type": "code",
   "execution_count": null,
   "metadata": {},
   "outputs": [],
   "source": []
  }
 ],
 "metadata": {
  "kernelspec": {
   "display_name": "Python 3 (ipykernel)",
   "language": "python",
   "name": "python3"
  },
  "language_info": {
   "codemirror_mode": {
    "name": "ipython",
    "version": 3
   },
   "file_extension": ".py",
   "mimetype": "text/x-python",
   "name": "python",
   "nbconvert_exporter": "python",
   "pygments_lexer": "ipython3",
   "version": "3.9.12"
  }
 },
 "nbformat": 4,
 "nbformat_minor": 2
}
